{
 "cells": [
  {
   "cell_type": "code",
   "execution_count": 29,
   "id": "884a9fd3-62db-46ce-8c5c-6e2430c7a480",
   "metadata": {},
   "outputs": [],
   "source": [
    "import numpy as np\n",
    "import pandas as pd"
   ]
  },
  {
   "cell_type": "code",
   "execution_count": 30,
   "id": "ae3f1d65-549d-4c1c-93ec-5ce4ee491ab7",
   "metadata": {},
   "outputs": [],
   "source": [
    "file_path = './Model.xlsx'\n",
    "sheet_name = 'Model'\n",
    "data = pd.read_excel(file_path, sheet_name=sheet_name)\n",
    "\n",
    "trimmed_data = \"Trimmed_Data\""
   ]
  },
  {
   "cell_type": "code",
   "execution_count": 35,
   "id": "cee859b1-576e-4be1-8fdd-183b92818b78",
   "metadata": {},
   "outputs": [],
   "source": [
    "columns_to_exclude = ['TOTEX', 'URB','emp_status']\n",
    "columns_to_trim = [col for col in data.columns if col not in columns_to_exclude]\n"
   ]
  },
  {
   "cell_type": "code",
   "execution_count": 36,
   "id": "a7714855-9d56-4860-bc6a-a1d3da1facb4",
   "metadata": {},
   "outputs": [],
   "source": [
    "def detect_outliers_iqr(column):\n",
    "    Q1 = column.quantile(0.25)\n",
    "    Q3 = column.quantile(0.75)\n",
    "    IQR = Q3 - Q1\n",
    "    lower_bound = Q1 - 1.5 * IQR\n",
    "    upper_bound = Q3 + 1.5 * IQR\n",
    "    return ~((column >= lower_bound) & (column <= upper_bound)) "
   ]
  },
  {
   "cell_type": "code",
   "execution_count": 37,
   "id": "5ed49362-e4b4-4f19-ab12-5ce0e17c7b20",
   "metadata": {},
   "outputs": [],
   "source": [
    "outlier_mask = pd.DataFrame(False, index=data.index, columns=columns_to_trim)\n",
    "for col in columns_to_trim:\n",
    "    outlier_mask[col] = detect_outliers_iqr(data[col])\n",
    "\n",
    "rows_with_outliers = outlier_mask.any(axis=1)  # Identify rows with any outliers\n",
    "trimmed_data = data[~rows_with_outliers]"
   ]
  },
  {
   "cell_type": "code",
   "execution_count": 38,
   "id": "d3a969ca-c20f-4a76-8e59-9149b6ce0dec",
   "metadata": {},
   "outputs": [
    {
     "name": "stdout",
     "output_type": "stream",
     "text": [
      "The trimmed_data DataFrame has 147472 rows and 5 columns.\n"
     ]
    }
   ],
   "source": [
    "if trimmed_data.empty:\n",
    "    print(\"The trimmed_data DataFrame is empty. Nothing to save.\")\n",
    "else:\n",
    "    print(f\"The trimmed_data DataFrame has {len(trimmed_data)} rows and {len(trimmed_data.columns)} columns.\")"
   ]
  },
  {
   "cell_type": "code",
   "execution_count": 40,
   "id": "fa0878fb-c457-438b-a3c6-a0bdb2072847",
   "metadata": {
    "scrolled": true
   },
   "outputs": [
    {
     "name": "stdout",
     "output_type": "stream",
     "text": [
      "Trimmed data has been successfully saved to the sheet 'Trimmed_Data'.\n"
     ]
    }
   ],
   "source": [
    "try:\n",
    "    with pd.ExcelWriter(file_path, engine='openpyxl', mode='a', if_sheet_exists='replace') as writer:\n",
    "        trimmed_data.to_excel(writer, sheet_name=sheet_trimmed, index=False)\n",
    "    print(f\"Trimmed data has been successfully saved to the sheet '{sheet_trimmed}'.\")\n",
    "except Exception as e:\n",
    "    print(f\"Error while writing to Excel: {e}\")"
   ]
  },
  {
   "cell_type": "code",
   "execution_count": null,
   "id": "6c3af065-ad0c-4fb1-b108-b1656ba0d95a",
   "metadata": {},
   "outputs": [],
   "source": []
  }
 ],
 "metadata": {
  "kernelspec": {
   "display_name": "Python 3 (ipykernel)",
   "language": "python",
   "name": "python3"
  },
  "language_info": {
   "codemirror_mode": {
    "name": "ipython",
    "version": 3
   },
   "file_extension": ".py",
   "mimetype": "text/x-python",
   "name": "python",
   "nbconvert_exporter": "python",
   "pygments_lexer": "ipython3",
   "version": "3.13.0"
  }
 },
 "nbformat": 4,
 "nbformat_minor": 5
}
